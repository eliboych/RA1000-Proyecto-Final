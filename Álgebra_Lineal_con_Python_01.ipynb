{
  "nbformat": 4,
  "nbformat_minor": 0,
  "metadata": {
    "colab": {
      "provenance": []
    },
    "kernelspec": {
      "name": "python3",
      "display_name": "Python 3"
    },
    "language_info": {
      "name": "python"
    }
  },
  "cells": [
    {
      "cell_type": "markdown",
      "source": [
        "# introducción a python ⚾\n",
        "\n",
        "\n",
        "\n",
        "1.   Objetos, numeros, strings, listas, conjuntos, arreglos (vectores y/o matrices), diccionarios (crear base de datos), data frames.\n",
        "2.   atributos de objetos.\n",
        "\n"
      ],
      "metadata": {
        "id": "_3kCMU5Xjfwj"
      }
    },
    {
      "cell_type": "markdown",
      "source": [
        "hay funciones (built in) dentro de python:\n",
        "\n",
        "\n",
        "\n",
        "*   $+, -, *,$ $**$, etc...\n",
        "*   `type` (contesta a la pregunta:\n",
        "¿Que tipo de objetos estas representando?), `print`(imprimir objetos, es decir leer codigo).\n",
        "\n"
      ],
      "metadata": {
        "id": "HBltKBGfk7Pi"
      }
    },
    {
      "cell_type": "code",
      "source": [
        "5 + 2, 5 - 2, 5 * 2, 5**2\n"
      ],
      "metadata": {
        "colab": {
          "base_uri": "https://localhost:8080/"
        },
        "id": "LUtHsAeSmTe4",
        "outputId": "b34e3e63-42b2-42a7-c977-fff223ef5574"
      },
      "execution_count": 1,
      "outputs": [
        {
          "output_type": "execute_result",
          "data": {
            "text/plain": [
              "(7, 3, 10, 25)"
            ]
          },
          "metadata": {},
          "execution_count": 1
        }
      ]
    },
    {
      "cell_type": "markdown",
      "source": [],
      "metadata": {
        "id": "L15griMym-G6"
      }
    },
    {
      "cell_type": "code",
      "source": [
        "print (5+2)\n",
        "print (5-2)\n",
        "print (5*2)\n",
        "print (5**2)\n",
        ""
      ],
      "metadata": {
        "colab": {
          "base_uri": "https://localhost:8080/"
        },
        "id": "F_XCGGPdm_wT",
        "outputId": "96d78d97-05a1-487e-96c4-fd84e2698597"
      },
      "execution_count": 2,
      "outputs": [
        {
          "output_type": "stream",
          "name": "stdout",
          "text": [
            "7\n",
            "3\n",
            "10\n",
            "25\n"
          ]
        }
      ]
    },
    {
      "cell_type": "code",
      "source": [
        "from re import M\n",
        "type(print(\"Hola Mundo!\"))\n",
        "\n",
        "\n"
      ],
      "metadata": {
        "colab": {
          "base_uri": "https://localhost:8080/"
        },
        "id": "VXJ0ttJBnSbO",
        "outputId": "522a85e9-a832-45ed-8c78-b92a79ca0bf0"
      },
      "execution_count": 3,
      "outputs": [
        {
          "output_type": "stream",
          "name": "stdout",
          "text": [
            "Hola Mundo!\n"
          ]
        },
        {
          "output_type": "execute_result",
          "data": {
            "text/plain": [
              "NoneType"
            ]
          },
          "metadata": {},
          "execution_count": 3
        }
      ]
    },
    {
      "cell_type": "code",
      "source": [
        "type ((7,3))\n",
        ""
      ],
      "metadata": {
        "colab": {
          "base_uri": "https://localhost:8080/"
        },
        "id": "pYY7gmAjmt-Z",
        "outputId": "389d14af-de9c-456a-c613-c87039cf2121"
      },
      "execution_count": 4,
      "outputs": [
        {
          "output_type": "execute_result",
          "data": {
            "text/plain": [
              "tuple"
            ]
          },
          "metadata": {},
          "execution_count": 4
        }
      ]
    },
    {
      "cell_type": "code",
      "source": [
        "type (1.1416)"
      ],
      "metadata": {
        "colab": {
          "base_uri": "https://localhost:8080/"
        },
        "id": "xb0YQ-AboUhF",
        "outputId": "533ba56c-97ac-4d3a-e30e-5109acef2a00"
      },
      "execution_count": 5,
      "outputs": [
        {
          "output_type": "execute_result",
          "data": {
            "text/plain": [
              "float"
            ]
          },
          "metadata": {},
          "execution_count": 5
        }
      ]
    },
    {
      "cell_type": "code",
      "source": [
        "type(\"1.1416\")"
      ],
      "metadata": {
        "colab": {
          "base_uri": "https://localhost:8080/"
        },
        "id": "S1zDy7sPoYSf",
        "outputId": "c321abc7-38b0-406e-b002-90116b1f93f4"
      },
      "execution_count": 6,
      "outputs": [
        {
          "output_type": "execute_result",
          "data": {
            "text/plain": [
              "str"
            ]
          },
          "metadata": {},
          "execution_count": 6
        }
      ]
    },
    {
      "cell_type": "code",
      "source": [],
      "metadata": {
        "id": "rPTy-mmKoeKO"
      },
      "execution_count": 6,
      "outputs": []
    },
    {
      "cell_type": "markdown",
      "source": [
        "Una variable es una forma de nombrar y guardar a un objeto."
      ],
      "metadata": {
        "id": "iEWbCCHsoqpH"
      }
    },
    {
      "cell_type": "code",
      "source": [
        "# Creando dos variables que son int\n",
        "x = 5\n",
        "y = 2"
      ],
      "metadata": {
        "id": "FyCMsUiPo8ht"
      },
      "execution_count": 7,
      "outputs": []
    },
    {
      "cell_type": "code",
      "source": [
        "# De esta forma podemos realizar las operaciones antes dadas.\n",
        "print(f\"las operaciones son: {x+y}, {x-y},{x*y},{x**y}\")"
      ],
      "metadata": {
        "colab": {
          "base_uri": "https://localhost:8080/"
        },
        "id": "3ERVeudwpS0A",
        "outputId": "92611993-7d95-41e6-d026-dbc3f43a02f4"
      },
      "execution_count": 8,
      "outputs": [
        {
          "output_type": "stream",
          "name": "stdout",
          "text": [
            "las operaciones son: 7, 3,10,25\n"
          ]
        }
      ]
    }
  ]
}