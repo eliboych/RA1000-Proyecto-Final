{
  "nbformat": 4,
  "nbformat_minor": 0,
  "metadata": {
    "colab": {
      "provenance": []
    },
    "kernelspec": {
      "name": "python3",
      "display_name": "Python 3"
    },
    "language_info": {
      "name": "python"
    }
  },
  "cells": [
    {
      "cell_type": "code",
      "source": [
        "import numpy as np"
      ],
      "metadata": {
        "id": "gjkj35SkbYsw"
      },
      "execution_count": 1,
      "outputs": []
    },
    {
      "cell_type": "markdown",
      "source": [
        "Código para realizar operaciones elementales por renglones."
      ],
      "metadata": {
        "id": "aVat4r10bYKS"
      }
    },
    {
      "cell_type": "code",
      "source": [
        "5**2"
      ],
      "metadata": {
        "colab": {
          "base_uri": "https://localhost:8080/"
        },
        "id": "RM6TtCJidpl8",
        "outputId": "a052c16f-17fe-4073-ccff-58aebcdd3154"
      },
      "execution_count": 2,
      "outputs": [
        {
          "output_type": "execute_result",
          "data": {
            "text/plain": [
              "25"
            ]
          },
          "metadata": {},
          "execution_count": 2
        }
      ]
    },
    {
      "cell_type": "code",
      "source": [
        "def Vale(x,n):\n",
        "  y = x**n\n",
        "  return y"
      ],
      "metadata": {
        "id": "K6VRyK_6dLuj"
      },
      "execution_count": 3,
      "outputs": []
    },
    {
      "cell_type": "code",
      "source": [
        "Vale(9.2,3)"
      ],
      "metadata": {
        "colab": {
          "base_uri": "https://localhost:8080/"
        },
        "id": "kA0STS2pdzYN",
        "outputId": "1adaacfa-248a-40f0-8514-34eb4a449d44"
      },
      "execution_count": 4,
      "outputs": [
        {
          "output_type": "execute_result",
          "data": {
            "text/plain": [
              "778.6879999999999"
            ]
          },
          "metadata": {},
          "execution_count": 4
        }
      ]
    },
    {
      "cell_type": "code",
      "source": [
        "6 % 2"
      ],
      "metadata": {
        "colab": {
          "base_uri": "https://localhost:8080/"
        },
        "id": "U-y9P3uKe219",
        "outputId": "c201705a-edd0-4de3-e3af-0ef986114476"
      },
      "execution_count": 5,
      "outputs": [
        {
          "output_type": "execute_result",
          "data": {
            "text/plain": [
              "0"
            ]
          },
          "metadata": {},
          "execution_count": 5
        }
      ]
    },
    {
      "cell_type": "code",
      "source": [
        "# loops ciclos\n",
        "indice = [1, 2, 3, 4, 5]\n",
        "\n",
        "pares = [x for x in indice if x%2==0]\n",
        "\n",
        "pares"
      ],
      "metadata": {
        "colab": {
          "base_uri": "https://localhost:8080/"
        },
        "id": "ofFpDKnleSrx",
        "outputId": "ef0e2b0a-0895-421c-d5b0-6803a00282c2"
      },
      "execution_count": 6,
      "outputs": [
        {
          "output_type": "execute_result",
          "data": {
            "text/plain": [
              "[2, 4]"
            ]
          },
          "metadata": {},
          "execution_count": 6
        }
      ]
    },
    {
      "cell_type": "code",
      "source": [
        "[x for x in range(1,6)]"
      ],
      "metadata": {
        "colab": {
          "base_uri": "https://localhost:8080/"
        },
        "id": "56SJWrTbnI_2",
        "outputId": "8c5bbd1a-3712-4762-ea9e-32a4835c441f"
      },
      "execution_count": 7,
      "outputs": [
        {
          "output_type": "execute_result",
          "data": {
            "text/plain": [
              "[1, 2, 3, 4, 5]"
            ]
          },
          "metadata": {},
          "execution_count": 7
        }
      ]
    },
    {
      "cell_type": "markdown",
      "source": [
        "### Coefientes de una matriz: acceso en numpy"
      ],
      "metadata": {
        "id": "It9SUmJJpXry"
      }
    },
    {
      "cell_type": "code",
      "source": [
        "A = np.array([[2, 1, 0.5], [1, 0 ,0 ], [2, 1, 0], [5, -1, 3] ] )\n",
        "\n",
        "A"
      ],
      "metadata": {
        "colab": {
          "base_uri": "https://localhost:8080/"
        },
        "id": "axuu8RuMpegy",
        "outputId": "ef45c855-71e9-4ce0-afc5-9f27496a9f43"
      },
      "execution_count": 8,
      "outputs": [
        {
          "output_type": "execute_result",
          "data": {
            "text/plain": [
              "array([[ 2. ,  1. ,  0.5],\n",
              "       [ 1. ,  0. ,  0. ],\n",
              "       [ 2. ,  1. ,  0. ],\n",
              "       [ 5. , -1. ,  3. ]])"
            ]
          },
          "metadata": {},
          "execution_count": 8
        }
      ]
    },
    {
      "cell_type": "code",
      "source": [
        "A.shape"
      ],
      "metadata": {
        "colab": {
          "base_uri": "https://localhost:8080/"
        },
        "id": "iF9J2Ug0pw8v",
        "outputId": "4021e7c8-b748-4a50-9ea0-97d522c965fe"
      },
      "execution_count": 9,
      "outputs": [
        {
          "output_type": "execute_result",
          "data": {
            "text/plain": [
              "(4, 3)"
            ]
          },
          "metadata": {},
          "execution_count": 9
        }
      ]
    },
    {
      "cell_type": "code",
      "source": [
        "indice"
      ],
      "metadata": {
        "colab": {
          "base_uri": "https://localhost:8080/"
        },
        "id": "EoyQrKyRqE0S",
        "outputId": "5b742768-106f-4c19-f9a3-ad1e0383c5b5"
      },
      "execution_count": 10,
      "outputs": [
        {
          "output_type": "execute_result",
          "data": {
            "text/plain": [
              "[1, 2, 3, 4, 5]"
            ]
          },
          "metadata": {},
          "execution_count": 10
        }
      ]
    },
    {
      "cell_type": "code",
      "source": [
        "# La indexación en Python comienza en 0\n",
        "\n",
        "print(indice[0])\n",
        "print(indice[4])"
      ],
      "metadata": {
        "colab": {
          "base_uri": "https://localhost:8080/"
        },
        "id": "FzQ0uQKEqK7Y",
        "outputId": "332b33c2-93b3-43f4-db20-9c8fd53e92be"
      },
      "execution_count": 11,
      "outputs": [
        {
          "output_type": "stream",
          "name": "stdout",
          "text": [
            "1\n",
            "5\n"
          ]
        }
      ]
    },
    {
      "cell_type": "code",
      "source": [
        "A.shape[0] # número de columnas de la matriz A"
      ],
      "metadata": {
        "colab": {
          "base_uri": "https://localhost:8080/"
        },
        "id": "T89FbIj_ql66",
        "outputId": "68fa2030-89aa-4d8e-86fc-ff8113563cd3"
      },
      "execution_count": 12,
      "outputs": [
        {
          "output_type": "execute_result",
          "data": {
            "text/plain": [
              "4"
            ]
          },
          "metadata": {},
          "execution_count": 12
        }
      ]
    },
    {
      "cell_type": "code",
      "source": [
        "A.shape[1] # número de renglones de la matriz A"
      ],
      "metadata": {
        "colab": {
          "base_uri": "https://localhost:8080/"
        },
        "id": "8fd495yCqzX3",
        "outputId": "566e60ed-82aa-4ee1-a374-d72d8b9453cb"
      },
      "execution_count": 13,
      "outputs": [
        {
          "output_type": "execute_result",
          "data": {
            "text/plain": [
              "3"
            ]
          },
          "metadata": {},
          "execution_count": 13
        }
      ]
    },
    {
      "cell_type": "code",
      "source": [
        "A"
      ],
      "metadata": {
        "colab": {
          "base_uri": "https://localhost:8080/"
        },
        "id": "D9kfUXOlq5s2",
        "outputId": "8fd29249-dfe8-43a2-e125-edc2e9573155"
      },
      "execution_count": 14,
      "outputs": [
        {
          "output_type": "execute_result",
          "data": {
            "text/plain": [
              "array([[ 2. ,  1. ,  0.5],\n",
              "       [ 1. ,  0. ,  0. ],\n",
              "       [ 2. ,  1. ,  0. ],\n",
              "       [ 5. , -1. ,  3. ]])"
            ]
          },
          "metadata": {},
          "execution_count": 14
        }
      ]
    },
    {
      "cell_type": "code",
      "source": [
        "A[0] # primer renglón"
      ],
      "metadata": {
        "colab": {
          "base_uri": "https://localhost:8080/"
        },
        "id": "PlNhCE2Bq93t",
        "outputId": "ad3d5530-2c00-4443-859c-0a072b004241"
      },
      "execution_count": 15,
      "outputs": [
        {
          "output_type": "execute_result",
          "data": {
            "text/plain": [
              "array([2. , 1. , 0.5])"
            ]
          },
          "metadata": {},
          "execution_count": 15
        }
      ]
    },
    {
      "cell_type": "code",
      "source": [
        "A[3][1]"
      ],
      "metadata": {
        "colab": {
          "base_uri": "https://localhost:8080/"
        },
        "id": "Lm7rQAuprNq5",
        "outputId": "06034055-57cb-4644-f129-28de8783c863"
      },
      "execution_count": 16,
      "outputs": [
        {
          "output_type": "execute_result",
          "data": {
            "text/plain": [
              "-1.0"
            ]
          },
          "metadata": {},
          "execution_count": 16
        }
      ]
    },
    {
      "cell_type": "code",
      "source": [
        "B = np.copy(A)\n",
        "B"
      ],
      "metadata": {
        "colab": {
          "base_uri": "https://localhost:8080/"
        },
        "id": "LfxLEjc7sQi5",
        "outputId": "e8758e64-ee0a-4386-8f33-e65427c81abb"
      },
      "execution_count": 17,
      "outputs": [
        {
          "output_type": "execute_result",
          "data": {
            "text/plain": [
              "array([[ 2. ,  1. ,  0.5],\n",
              "       [ 1. ,  0. ,  0. ],\n",
              "       [ 2. ,  1. ,  0. ],\n",
              "       [ 5. , -1. ,  3. ]])"
            ]
          },
          "metadata": {},
          "execution_count": 17
        }
      ]
    },
    {
      "cell_type": "code",
      "source": [
        "def RowSwap(A,k,l):\n",
        "# =============================================================================\n",
        "#     A  NumPy array.  RowSwap devolverá una matriz duplicada con filas\n",
        "# k y l intercambiados.\n",
        "# =============================================================================\n",
        "    m = A.shape[0]  # m renglones\n",
        "    n = A.shape[1]  # n columnas\n",
        "\n",
        "    B = np.copy(A).astype('float64')\n",
        "\n",
        "    for j in range(n):\n",
        "        temp = B[k][j]\n",
        "        B[k][j] = B[l][j]\n",
        "        B[l][j] = temp\n",
        "\n",
        "    return B\n",
        "\n",
        "def RowScale(A,k,scale):\n",
        "# =============================================================================\n",
        "#     A NumPy array.  RowScale devolverá una matriz duplicada con el\n",
        "# entradas de la fila k multiplicadas por escala..\n",
        "# =============================================================================\n",
        "    m = A.shape[0]  # m renglones\n",
        "    n = A.shape[1]  # n columnas\n",
        "\n",
        "    B = np.copy(A).astype('float64')\n",
        "\n",
        "    for j in range(n):\n",
        "        B[k][j] *= scale\n",
        "\n",
        "    return B\n",
        "\n",
        "def RowAdd(A,k,l,scale):\n",
        "# =============================================================================\n",
        "#     A numpy array.  RowAdd devolverá matriz duplicada con fila\n",
        "# l modificado. Los nuevos valores serán los valores antiguos de la fila l agregados a\n",
        "# los valores de la fila k, multiplicados por la escala.\n",
        "# =============================================================================\n",
        "    m = A.shape[0]  # m renglones\n",
        "    n = A.shape[1]  # n columnas\n",
        "\n",
        "    B = np.copy(A).astype('float64')\n",
        "\n",
        "    for j in range(n):\n",
        "        B[l][j] += B[k][j]*scale\n",
        "\n",
        "    return B\n",
        ""
      ],
      "metadata": {
        "id": "J01kv_5YOK7L"
      },
      "execution_count": 18,
      "outputs": []
    },
    {
      "cell_type": "code",
      "source": [
        "A"
      ],
      "metadata": {
        "colab": {
          "base_uri": "https://localhost:8080/"
        },
        "id": "6hr4n_HCu7eO",
        "outputId": "263544e9-dd0b-4748-e79e-9bb85d57267f"
      },
      "execution_count": 19,
      "outputs": [
        {
          "output_type": "execute_result",
          "data": {
            "text/plain": [
              "array([[ 2. ,  1. ,  0.5],\n",
              "       [ 1. ,  0. ,  0. ],\n",
              "       [ 2. ,  1. ,  0. ],\n",
              "       [ 5. , -1. ,  3. ]])"
            ]
          },
          "metadata": {},
          "execution_count": 19
        }
      ]
    },
    {
      "cell_type": "code",
      "source": [
        "RowSwap(A,0,1)"
      ],
      "metadata": {
        "colab": {
          "base_uri": "https://localhost:8080/"
        },
        "id": "91b9_xF_vFj4",
        "outputId": "3b84135e-a413-4353-de15-de521884934e"
      },
      "execution_count": 20,
      "outputs": [
        {
          "output_type": "execute_result",
          "data": {
            "text/plain": [
              "array([[ 1. ,  0. ,  0. ],\n",
              "       [ 2. ,  1. ,  0.5],\n",
              "       [ 2. ,  1. ,  0. ],\n",
              "       [ 5. , -1. ,  3. ]])"
            ]
          },
          "metadata": {},
          "execution_count": 20
        }
      ]
    },
    {
      "cell_type": "code",
      "source": [
        "RowScale(A, 0, 0.5)"
      ],
      "metadata": {
        "colab": {
          "base_uri": "https://localhost:8080/"
        },
        "id": "w3H1hvsqvfUC",
        "outputId": "1792aa21-6426-4eec-c6eb-1bf0a698f062"
      },
      "execution_count": 21,
      "outputs": [
        {
          "output_type": "execute_result",
          "data": {
            "text/plain": [
              "array([[ 1.  ,  0.5 ,  0.25],\n",
              "       [ 1.  ,  0.  ,  0.  ],\n",
              "       [ 2.  ,  1.  ,  0.  ],\n",
              "       [ 5.  , -1.  ,  3.  ]])"
            ]
          },
          "metadata": {},
          "execution_count": 21
        }
      ]
    },
    {
      "cell_type": "code",
      "source": [
        "A"
      ],
      "metadata": {
        "colab": {
          "base_uri": "https://localhost:8080/"
        },
        "id": "NB9OLtbhwCll",
        "outputId": "742740ba-e469-49eb-e27a-3cea90e7554b"
      },
      "execution_count": 22,
      "outputs": [
        {
          "output_type": "execute_result",
          "data": {
            "text/plain": [
              "array([[ 2. ,  1. ,  0.5],\n",
              "       [ 1. ,  0. ,  0. ],\n",
              "       [ 2. ,  1. ,  0. ],\n",
              "       [ 5. , -1. ,  3. ]])"
            ]
          },
          "metadata": {},
          "execution_count": 22
        }
      ]
    },
    {
      "cell_type": "code",
      "source": [
        "RowAdd(A, 0, 1, 2)"
      ],
      "metadata": {
        "colab": {
          "base_uri": "https://localhost:8080/"
        },
        "id": "_Tg0axGqvv6x",
        "outputId": "2fe51d98-78e8-4ac3-d363-39471aa8aeb4"
      },
      "execution_count": 23,
      "outputs": [
        {
          "output_type": "execute_result",
          "data": {
            "text/plain": [
              "array([[ 2. ,  1. ,  0.5],\n",
              "       [ 5. ,  2. ,  1. ],\n",
              "       [ 2. ,  1. ,  0. ],\n",
              "       [ 5. , -1. ,  3. ]])"
            ]
          },
          "metadata": {},
          "execution_count": 23
        }
      ]
    }
  ]
}