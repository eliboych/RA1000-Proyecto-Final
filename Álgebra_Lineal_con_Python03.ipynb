{
  "nbformat": 4,
  "nbformat_minor": 0,
  "metadata": {
    "colab": {
      "provenance": []
    },
    "kernelspec": {
      "name": "python3",
      "display_name": "Python 3"
    },
    "language_info": {
      "name": "python"
    }
  },
  "cells": [
    {
      "cell_type": "markdown",
      "source": [
        "# Álgebra Lineal con Python\n",
        "\n",
        "Recordemos que si damos $n\\times m$ números reales, entonces podemos crear un arreglo (una matriz):\n",
        "$$A_{m\\times n}=\\begin{bmatrix}\n",
        "a_{11} & a_{12} & \\cdots & a_{1n} \\\\\n",
        "a_{21} & a_{22} & \\cdots & a_{2n} \\\\\n",
        "\\vdots & \\vdots & \\ddots & \\vdots \\\\\n",
        "a_{m1} & a_{m2} & \\cdots & a_{mn}\n",
        "\\end{bmatrix}$$\n",
        "\n",
        "y al conjunto de matrices con coeficientes en $\\mathbb{R}$ lo denotamos $\\text{Mat}_{m\\times n}(\\mathbb{R})$.\n"
      ],
      "metadata": {
        "id": "MXfDgHr3RAt7"
      }
    },
    {
      "cell_type": "code",
      "source": [
        "type(2), type(2.0), type(\"2\") # La función type(obj) nos dice el tipo de objeto con el que se está trabajando."
      ],
      "metadata": {
        "colab": {
          "base_uri": "https://localhost:8080/"
        },
        "id": "rrsH4dA7SLmP",
        "outputId": "1334392e-688b-47ee-e2b5-89bf7d622813"
      },
      "execution_count": 2,
      "outputs": [
        {
          "output_type": "execute_result",
          "data": {
            "text/plain": [
              "(int, float, str)"
            ]
          },
          "metadata": {},
          "execution_count": 2
        }
      ]
    },
    {
      "cell_type": "markdown",
      "source": [
        "### Variables\n",
        "$$\\text{nombre} = \\text{objeto}$$\n",
        "\n",
        "Debug: $\\text{print(variable)}$"
      ],
      "metadata": {
        "id": "F_m9B2_BdbEM"
      }
    },
    {
      "cell_type": "markdown",
      "source": [
        "1. Suma de matrices\n",
        "\n",
        "$$\\begin{pmatrix} a_{11} & a_{12} & \\cdots & a_{1n} \\\\ a_{21} & a_{22} & \\cdots & a_{2n} \\\\ \\vdots & \\vdots & \\ddots & \\vdots \\\\ a_{m1} & a_{m2} & \\cdots & a_{mn} \\end{pmatrix} + \\begin{pmatrix} b_{11} & b_{12} & \\cdots & b_{1n} \\\\ b_{21} & b_{22} & \\cdots & b_{2n} \\\\ \\vdots & \\vdots & \\ddots & \\vdots \\\\ b_{m1} & b_{m2} & \\cdots & b_{mn} \\end{pmatrix} = \\begin{pmatrix} a_{11} + b_{11} & a_{12} + b_{12} & \\cdots & a_{1n} + b_{1n} \\\\ a_{21} + b_{21} & a_{22} + b_{22} & \\cdots & a_{2n} + b_{2n} \\\\ \\vdots & \\vdots & \\ddots & \\vdots \\\\ a_{m1} + b_{m1} & a_{m2} + b_{m2} & \\cdots & a_{mn} + b_{mn} \\end{pmatrix}$$\n",
        "\n",
        "2. Multiplicación de matrices\n",
        "\n",
        "$$\\begin{pmatrix} a_{11} & a_{12} \\\\ a_{21} & a_{22} \\end{pmatrix} \\times \\begin{pmatrix} b_{11} & b_{12} \\\\ b_{21} & b_{22} \\end{pmatrix} = \\begin{pmatrix} a_{11}b_{11} + a_{12}b_{21} & a_{11}b_{12} + a_{12}b_{22} \\\\ a_{21}b_{11} + a_{22}b_{21} & a_{21}b_{12} + a_{22}b_{22} \\end{pmatrix} $$"
      ],
      "metadata": {
        "id": "j8u-P7h72XGv"
      }
    },
    {
      "cell_type": "markdown",
      "source": [
        "### Listas\n",
        "\n",
        "$L=[a_{0}, a_{1}, \\dots, a_{n-1}]$"
      ],
      "metadata": {
        "id": "V7poYJujSoqF"
      }
    },
    {
      "cell_type": "code",
      "source": [
        "# Vamosa genera 3 listas\n",
        "L = [1, 2, 3, 4, 5]\n",
        "\n",
        "M = [6, 7, 8, 9 , 10]\n",
        "\n",
        "N = [11, 12, 13]\n",
        "\n",
        "print(L)\n",
        "print(M)  # me muestra el resultado\n",
        "print(N)"
      ],
      "metadata": {
        "colab": {
          "base_uri": "https://localhost:8080/"
        },
        "id": "rMxqQX4SSW4t",
        "outputId": "8180a5da-e368-45e1-8ac4-8fde3bde8e7b"
      },
      "execution_count": 3,
      "outputs": [
        {
          "output_type": "stream",
          "name": "stdout",
          "text": [
            "[1, 2, 3, 4, 5]\n",
            "[6, 7, 8, 9, 10]\n",
            "[11, 12, 13]\n"
          ]
        }
      ]
    },
    {
      "cell_type": "code",
      "source": [
        "# Que tipo de objeto es\n",
        "type(L)"
      ],
      "metadata": {
        "id": "Zw1hYNaqTAwy",
        "outputId": "33a51c71-0ccb-4f0c-fd17-fdad211ce9a2",
        "colab": {
          "base_uri": "https://localhost:8080/"
        }
      },
      "execution_count": 4,
      "outputs": [
        {
          "output_type": "execute_result",
          "data": {
            "text/plain": [
              "list"
            ]
          },
          "metadata": {},
          "execution_count": 4
        }
      ]
    },
    {
      "cell_type": "code",
      "source": [
        "# Transformar listas a otros objetos\n",
        "L_set = set(L)\n",
        "\n",
        "L_set"
      ],
      "metadata": {
        "colab": {
          "base_uri": "https://localhost:8080/"
        },
        "id": "PrOqz_EkgzZo",
        "outputId": "69874578-7ee9-4045-fd4f-6aa6a59d94bc"
      },
      "execution_count": 5,
      "outputs": [
        {
          "output_type": "execute_result",
          "data": {
            "text/plain": [
              "{1, 2, 3, 4, 5}"
            ]
          },
          "metadata": {},
          "execution_count": 5
        }
      ]
    },
    {
      "cell_type": "code",
      "source": [
        "L_lista = list(L_set)\n",
        "L_lista"
      ],
      "metadata": {
        "colab": {
          "base_uri": "https://localhost:8080/"
        },
        "id": "odNKcoujeWBS",
        "outputId": "314e86f0-20dc-4f38-cd0b-094cd2ce1764"
      },
      "execution_count": 6,
      "outputs": [
        {
          "output_type": "execute_result",
          "data": {
            "text/plain": [
              "[1, 2, 3, 4, 5]"
            ]
          },
          "metadata": {},
          "execution_count": 6
        }
      ]
    },
    {
      "cell_type": "code",
      "source": [
        "L + M # concatena (no realiza operaciones vectoriales)."
      ],
      "metadata": {
        "colab": {
          "base_uri": "https://localhost:8080/"
        },
        "id": "ty7z2IXFhO1N",
        "outputId": "1b5242e7-c2bf-4455-9742-dbd355fd84ac"
      },
      "execution_count": 7,
      "outputs": [
        {
          "output_type": "execute_result",
          "data": {
            "text/plain": [
              "[1, 2, 3, 4, 5, 6, 7, 8, 9, 10]"
            ]
          },
          "metadata": {},
          "execution_count": 7
        }
      ]
    },
    {
      "cell_type": "code",
      "source": [
        "L + M + N"
      ],
      "metadata": {
        "colab": {
          "base_uri": "https://localhost:8080/"
        },
        "id": "KGyV18pje0dm",
        "outputId": "34946a18-b43e-4484-e9cb-75c2f8335dc1"
      },
      "execution_count": 8,
      "outputs": [
        {
          "output_type": "execute_result",
          "data": {
            "text/plain": [
              "[1, 2, 3, 4, 5, 6, 7, 8, 9, 10, 11, 12, 13]"
            ]
          },
          "metadata": {},
          "execution_count": 8
        }
      ]
    },
    {
      "cell_type": "markdown",
      "source": [
        "### NumPy"
      ],
      "metadata": {
        "id": "cHpWBMkijawY"
      }
    },
    {
      "cell_type": "markdown",
      "source": [
        "- Un vector = arreglo 1D en Python\n",
        "- Una matriz = arreglo 2D en Python"
      ],
      "metadata": {
        "id": "qTF0vi9alcXr"
      }
    },
    {
      "cell_type": "code",
      "source": [
        "# Llamamos a la libreria para hacer operaciones vectoriales\n",
        "import numpy as np"
      ],
      "metadata": {
        "id": "cM1VQWLvjO6z"
      },
      "execution_count": 9,
      "outputs": []
    },
    {
      "cell_type": "code",
      "source": [
        "L_vector = np.array(L) # Convertir una lista en un vector. La función \"np.array\" es la que hace la transformación\n",
        "\n",
        "L_vector"
      ],
      "metadata": {
        "colab": {
          "base_uri": "https://localhost:8080/"
        },
        "id": "ZAl3bdrqlzCq",
        "outputId": "c9ce0823-aedf-4cb3-8c11-810f694b2319"
      },
      "execution_count": 10,
      "outputs": [
        {
          "output_type": "execute_result",
          "data": {
            "text/plain": [
              "array([1, 2, 3, 4, 5])"
            ]
          },
          "metadata": {},
          "execution_count": 10
        }
      ]
    },
    {
      "cell_type": "code",
      "source": [
        "type(L_vector)"
      ],
      "metadata": {
        "colab": {
          "base_uri": "https://localhost:8080/"
        },
        "id": "JcKmNPCqdK-U",
        "outputId": "4b11872a-3418-49b0-df4b-ef8129200e74"
      },
      "execution_count": 11,
      "outputs": [
        {
          "output_type": "execute_result",
          "data": {
            "text/plain": [
              "numpy.ndarray"
            ]
          },
          "metadata": {},
          "execution_count": 11
        }
      ]
    },
    {
      "cell_type": "code",
      "source": [
        "# Se hacen conversiones de listas a vectores\n",
        "M_vector = np.array(M)\n",
        "\n",
        "N_vector = np.array(N)\n",
        "\n",
        "print(M_vector)\n",
        "print(N_vector)"
      ],
      "metadata": {
        "colab": {
          "base_uri": "https://localhost:8080/"
        },
        "id": "B7c2SQ3DmSkL",
        "outputId": "d4683ad9-9e1c-42de-92dc-66712bfa911b"
      },
      "execution_count": 12,
      "outputs": [
        {
          "output_type": "stream",
          "name": "stdout",
          "text": [
            "[ 6  7  8  9 10]\n",
            "[11 12 13]\n"
          ]
        }
      ]
    },
    {
      "cell_type": "code",
      "source": [
        "# Se ve el numero de elmentos que tiene cada vector\n",
        "len(L_vector), len(M_vector), len(N_vector)"
      ],
      "metadata": {
        "colab": {
          "base_uri": "https://localhost:8080/"
        },
        "id": "qWXPx9wHnVrV",
        "outputId": "ce338faa-9a74-4abc-b7d6-aad2fbebb4d3"
      },
      "execution_count": 13,
      "outputs": [
        {
          "output_type": "execute_result",
          "data": {
            "text/plain": [
              "(5, 5, 3)"
            ]
          },
          "metadata": {},
          "execution_count": 13
        }
      ]
    },
    {
      "cell_type": "markdown",
      "source": [
        "### Con esto ya podemos sumar vectores pero tienen que tener el mimso numero de elementos se pueden sumar.\n"
      ],
      "metadata": {
        "id": "7-0sD4Cy8MG-"
      }
    },
    {
      "cell_type": "code",
      "source": [
        "L_vector + M_vector # suma vectorial"
      ],
      "metadata": {
        "colab": {
          "base_uri": "https://localhost:8080/"
        },
        "id": "FivOuxE5oClc",
        "outputId": "c3e9131a-2e81-48aa-a828-af36e132b950"
      },
      "execution_count": 14,
      "outputs": [
        {
          "output_type": "execute_result",
          "data": {
            "text/plain": [
              "array([ 7,  9, 11, 13, 15])"
            ]
          },
          "metadata": {},
          "execution_count": 14
        }
      ]
    },
    {
      "cell_type": "markdown",
      "source": [
        "## Creando matrices con NumPy: El método `solve( , )`\n"
      ],
      "metadata": {
        "id": "Oq29FUQwQk4k"
      }
    },
    {
      "cell_type": "markdown",
      "source": [
        "\n",
        "\n",
        "Un total de $30$ boletos fueron vendidos para un evento, sumando una recaudación total de $\\$150$. Los boletos para adultos cuestan $\\$7$, mientras que los boletos para niños cuestan $\\$3$. ¿Cuántos boletos de cada tipo se vendieron?\n",
        "\n",
        "\n",
        "\n",
        "Sea \\(x\\) el número de boletos para adultos vendidos y \\(y\\) el número de boletos para niños vendidos. Las condiciones del problema se traducen en el siguiente sistema de ecuaciones:\n",
        "\n",
        "\n",
        "\n",
        "x + y = 30, \\\\\n",
        "7x + 3y = 150.\n",
        "\n",
        "\n",
        "Resolviendo el sistema:\n",
        "\n",
        "De la primera ecuación, despejamos \\(y\\):\n",
        "\n",
        "y = 30 - x.\n",
        "\n",
        "Sustituimos en la segunda ecuación:\n",
        "\n",
        "7x + 3(30 - x) = 150.\n",
        "\n",
        "\n",
        "Simplificamos:\n",
        "\n",
        "7x + 90 - 3x = 150  \n",
        "4x + 90 = 150\n",
        "4x = 60\n",
        "x = 15.\n",
        "\n",
        "\n",
        "Sustituyendo \\(x = 15\\) en \\(y = 30 - x\\):\n",
        "\\[\n",
        "y = 30 - 15 = 15.\n",
        "\\]\n",
        "\n",
        "Por lo tanto, el número de boletos vendidos fue:\n",
        "\n",
        "x = 15"
      ],
      "metadata": {
        "id": "paL0DxSP_Sl2"
      }
    },
    {
      "cell_type": "code",
      "source": [],
      "metadata": {
        "id": "CaSDtg7aAbKR"
      },
      "execution_count": 14,
      "outputs": []
    },
    {
      "cell_type": "markdown",
      "source": [
        "### vamos a resolver este problema usando NumPy"
      ],
      "metadata": {
        "id": "pG5wWVNWABYJ"
      }
    },
    {
      "cell_type": "code",
      "source": [
        "# Escribimos la matriz con el sistema de ecuaciones\n",
        "A = np.array([1, 1, 7, 3]).reshape((2,2))\n",
        "A"
      ],
      "metadata": {
        "id": "Aizg3wSfovh3",
        "colab": {
          "base_uri": "https://localhost:8080/"
        },
        "outputId": "4d3b2b14-7615-4578-f2a1-c044444a9ed9"
      },
      "execution_count": 15,
      "outputs": [
        {
          "output_type": "execute_result",
          "data": {
            "text/plain": [
              "array([[1, 1],\n",
              "       [7, 3]])"
            ]
          },
          "metadata": {},
          "execution_count": 15
        }
      ]
    },
    {
      "cell_type": "code",
      "source": [
        "# Vector de sistema de ecuaciones\n",
        "B = np.array([1,3])"
      ],
      "metadata": {
        "id": "Dlk3EOZSR7Q_"
      },
      "execution_count": 16,
      "outputs": []
    },
    {
      "cell_type": "markdown",
      "source": [
        "$$AX=B$$"
      ],
      "metadata": {
        "id": "2-ZBA4T2SmfG"
      }
    },
    {
      "cell_type": "code",
      "source": [
        "# la función solve resuelve el sistema de ecuaciones\n",
        "X = np.linalg.solve(A,B)\n",
        "\n",
        "X"
      ],
      "metadata": {
        "colab": {
          "base_uri": "https://localhost:8080/"
        },
        "id": "a7M19yRISlxU",
        "outputId": "fbdca857-c17b-4160-f39b-4d9823ba5912"
      },
      "execution_count": 17,
      "outputs": [
        {
          "output_type": "execute_result",
          "data": {
            "text/plain": [
              "array([0., 1.])"
            ]
          },
          "metadata": {},
          "execution_count": 17
        }
      ]
    },
    {
      "cell_type": "markdown",
      "source": [
        "La solución de sistema de ecuaciones es de\n",
        "X= 0\n",
        "Y= 1"
      ],
      "metadata": {
        "id": "YJwJawswB8D-"
      }
    }
  ]
}